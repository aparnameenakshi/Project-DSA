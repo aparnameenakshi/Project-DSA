{
 "cells": [
  {
   "cell_type": "code",
   "execution_count": 1,
   "id": "7246d5af",
   "metadata": {},
   "outputs": [
    {
     "name": "stdout",
     "output_type": "stream",
     "text": [
      "Enter a string value: assembly\n",
      "a=1\n",
      "s=2\n",
      "e=1\n",
      "m=1\n",
      "b=1\n",
      "l=1\n",
      "y=1\n"
     ]
    }
   ],
   "source": [
    "def count_characters(input_string):\n",
    "    char_count = {}\n",
    "    for char in input_string:\n",
    "        if char in char_count:\n",
    "            char_count[char] += 1\n",
    "        else:\n",
    "            char_count[char] = 1\n",
    "    return char_count\n",
    "\n",
    "user_input = input(\"Enter a string value: \")\n",
    "character_count = count_characters(user_input)\n",
    "\n",
    "for char, count in character_count.items():\n",
    "    print(f\"{char}={count}\")"
   ]
  },
  {
   "cell_type": "code",
   "execution_count": 2,
   "id": "90ef335d",
   "metadata": {},
   "outputs": [
    {
     "name": "stdout",
     "output_type": "stream",
     "text": [
      "34\n"
     ]
    }
   ],
   "source": [
    "def max_of_two( x, y ):\n",
    "    if x > y:\n",
    "        return x\n",
    "    return y\n",
    "def max_of_three( x, y, z ):\n",
    "    return max_of_two( x, max_of_two( y, z ) )\n",
    "print(max_of_three(34, 12, 7))"
   ]
  },
  {
   "cell_type": "code",
   "execution_count": 3,
   "id": "2d009955",
   "metadata": {},
   "outputs": [
    {
     "name": "stdout",
     "output_type": "stream",
     "text": [
      "Enter the base: 2\n",
      "Enter the exponent: 3\n",
      "2.0 raised to the power of 3 is 8.0\n"
     ]
    }
   ],
   "source": [
    "def exponent(base, exp):\n",
    "    result = base ** exp\n",
    "    return result\n",
    "\n",
    "# Example usage\n",
    "base = float(input(\"Enter the base: \"))\n",
    "exp = int(input(\"Enter the exponent: \"))\n",
    "\n",
    "result = exponent(base, exp)\n",
    "print(f\"{base} raised to the power of {exp} is {result}\")"
   ]
  },
  {
   "cell_type": "code",
   "execution_count": 4,
   "id": "6011d6e6",
   "metadata": {},
   "outputs": [
    {
     "name": "stdout",
     "output_type": "stream",
     "text": [
      "Enter a positive integer: 4\n",
      "The sum of the cubes of positive integers smaller than 4 is 36\n"
     ]
    }
   ],
   "source": [
    "def sum_of_cubes(n):\n",
    "    if n <= 0:\n",
    "        return 0\n",
    "    \n",
    "    sum_cubes = 0\n",
    "    for i in range(1, n):\n",
    "        sum_cubes += i ** 3\n",
    "    return sum_cubes\n",
    "\n",
    "# Example usage\n",
    "num = int(input(\"Enter a positive integer: \"))\n",
    "\n",
    "result = sum_of_cubes(num)\n",
    "print(f\"The sum of the cubes of positive integers smaller than {num} is {result}\")"
   ]
  },
  {
   "cell_type": "code",
   "execution_count": 5,
   "id": "004e1a34",
   "metadata": {},
   "outputs": [
    {
     "name": "stdout",
     "output_type": "stream",
     "text": [
      "1\n",
      "Fizz\n",
      "3\n",
      "Fizz\n",
      "Buzz\n",
      "Fizz\n",
      "7\n",
      "Fizz\n",
      "9\n",
      "FizzBuzz\n"
     ]
    }
   ],
   "source": [
    "for num in range(1, 11):\n",
    "    if num % 2 == 0 and num % 5 == 0:\n",
    "        print(\"FizzBuzz\")\n",
    "    elif num % 2 == 0:\n",
    "        print(\"Fizz\")\n",
    "    elif num % 5 == 0:\n",
    "        print(\"Buzz\")\n",
    "    else:\n",
    "        print(num)"
   ]
  },
  {
   "cell_type": "code",
   "execution_count": 6,
   "id": "58df4b3a",
   "metadata": {},
   "outputs": [
    {
     "name": "stdout",
     "output_type": "stream",
     "text": [
      "Enter a list of numbers separated by spaces: 2 3 4 2 5 2\n",
      "The most frequent item in the list is 2\n"
     ]
    }
   ],
   "source": [
    "def most_frequent_item(numbers_list):\n",
    "    count_dict = {}\n",
    "    \n",
    "    for num in numbers_list:\n",
    "        if num in count_dict:\n",
    "            count_dict[num] += 1\n",
    "        else:\n",
    "            count_dict[num] = 1\n",
    "    \n",
    "    most_frequent = max(count_dict, key=count_dict.get)\n",
    "    return most_frequent\n",
    "\n",
    "# Example usage\n",
    "numbers = input(\"Enter a list of numbers separated by spaces: \").split()\n",
    "numbers = [int(num) for num in numbers]\n",
    "\n",
    "most_frequent = most_frequent_item(numbers)\n",
    "print(f\"The most frequent item in the list is {most_frequent}\")"
   ]
  },
  {
   "cell_type": "code",
   "execution_count": 7,
   "id": "211818c5",
   "metadata": {},
   "outputs": [
    {
     "name": "stdout",
     "output_type": "stream",
     "text": [
      "Enter a list of numbers separated by spaces: 2 1 3 1\n",
      "The sum of squares of the numbers in the list is 15\n"
     ]
    }
   ],
   "source": [
    "def sum_of_squares(numbers_list):\n",
    "    sum_squares = 0\n",
    "    \n",
    "    for num in numbers_list:\n",
    "        sum_squares += num ** 2\n",
    "    \n",
    "    return sum_squares\n",
    "\n",
    "# Example usage\n",
    "numbers = input(\"Enter a list of numbers separated by spaces: \").split()\n",
    "numbers = [int(num) for num in numbers]\n",
    "\n",
    "total_sum = sum_of_squares(numbers)\n",
    "print(f\"The sum of squares of the numbers in the list is {total_sum}\")"
   ]
  },
  {
   "cell_type": "code",
   "execution_count": 8,
   "id": "4672d49c",
   "metadata": {},
   "outputs": [
    {
     "name": "stdout",
     "output_type": "stream",
     "text": [
      "1 is odd\n",
      "2 is even\n",
      "3 is odd\n",
      "4 is even\n",
      "5 is odd\n",
      "6 is even\n",
      "7 is odd\n",
      "8 is even\n",
      "9 is odd\n",
      "10 is even\n",
      "11 is odd\n",
      "12 is even\n",
      "13 is odd\n",
      "14 is even\n",
      "15 is odd\n"
     ]
    }
   ],
   "source": [
    "for num in range(1, 16):\n",
    "    if num % 2 == 0:\n",
    "        print(f\"{num} is even\")\n",
    "    else:\n",
    "        print(f\"{num} is odd\")"
   ]
  },
  {
   "cell_type": "code",
   "execution_count": 9,
   "id": "97097bcf",
   "metadata": {},
   "outputs": [
    {
     "name": "stdout",
     "output_type": "stream",
     "text": [
      "Choose conversion type:\n",
      "1. Celsius to Fahrenheit\n",
      "2. Fahrenheit to Celsius\n",
      "Enter choice (1/2): 1\n",
      "Enter temperature in Celsius: 41\n",
      "41.0°C is 105.8°F\n"
     ]
    }
   ],
   "source": [
    "def celsius_to_fahrenheit(celsius):\n",
    "    fahrenheit = (celsius * 9/5) + 32\n",
    "    return fahrenheit\n",
    "\n",
    "def fahrenheit_to_celsius(fahrenheit):\n",
    "    celsius = (fahrenheit - 32) * 5/9\n",
    "    return celsius\n",
    "\n",
    "choice = input(\"Choose conversion type:\\n1. Celsius to Fahrenheit\\n2. Fahrenheit to Celsius\\nEnter choice (1/2): \")\n",
    "\n",
    "if choice == '1':\n",
    "    celsius = float(input(\"Enter temperature in Celsius: \"))\n",
    "    fahrenheit = celsius_to_fahrenheit(celsius)\n",
    "    print(f\"{celsius}°C is {fahrenheit}°F\")\n",
    "elif choice == '2':\n",
    "    fahrenheit = float(input(\"Enter temperature in Fahrenheit: \"))\n",
    "    celsius = fahrenheit_to_celsius(fahrenheit)\n",
    "    print(f\"{fahrenheit}°F is {celsius}°C\")\n",
    "else:\n",
    "    print(\"Invalid choice\")"
   ]
  },
  {
   "cell_type": "code",
   "execution_count": 10,
   "id": "5b4df62a",
   "metadata": {},
   "outputs": [
    {
     "name": "stdout",
     "output_type": "stream",
     "text": [
      "Enter a nonnegative integer: 3\n",
      "The factorial of 3 is 6\n"
     ]
    }
   ],
   "source": [
    "def factorial(n):\n",
    "    if n < 0:\n",
    "        return None\n",
    "    elif n == 0 or n == 1:\n",
    "        return 1\n",
    "    else:\n",
    "        result = 1\n",
    "        for i in range(2, n + 1):\n",
    "            result *= i\n",
    "        return result\n",
    "\n",
    "# Example usage\n",
    "num = int(input(\"Enter a nonnegative integer: \"))\n",
    "\n",
    "factorial_result = factorial(num)\n",
    "if factorial_result is None:\n",
    "    print(\"Factorial is not defined for negative numbers\")\n",
    "else:\n",
    "    print(f\"The factorial of {num} is {factorial_result}\")"
   ]
  }
 ],
 "metadata": {
  "kernelspec": {
   "display_name": "Python 3 (ipykernel)",
   "language": "python",
   "name": "python3"
  },
  "language_info": {
   "codemirror_mode": {
    "name": "ipython",
    "version": 3
   },
   "file_extension": ".py",
   "mimetype": "text/x-python",
   "name": "python",
   "nbconvert_exporter": "python",
   "pygments_lexer": "ipython3",
   "version": "3.11.3"
  }
 },
 "nbformat": 4,
 "nbformat_minor": 5
}
